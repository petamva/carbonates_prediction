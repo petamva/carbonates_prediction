{
 "cells": [
  {
   "cell_type": "code",
   "execution_count": 1,
   "metadata": {},
   "outputs": [],
   "source": [
    "import os\n",
    "os.environ[\"TF_CPP_MIN_LOG_LEVEL\"] = \"2\"  # this is to silence tf warnings"
   ]
  },
  {
   "cell_type": "code",
   "execution_count": 2,
   "metadata": {},
   "outputs": [],
   "source": [
    "import tensorflow as tf\n",
    "from tensorflow import keras\n",
    "import numpy as np\n",
    "from tensorflow.keras.preprocessing.image import load_img, img_to_array, array_to_img\n",
    "from tensorflow.keras.layers import Input, Dense, Dropout, Conv2D, MaxPooling2D, Flatten\n",
    "import csv\n",
    "import tensorflow_addons as tfa"
   ]
  },
  {
   "cell_type": "code",
   "execution_count": 3,
   "metadata": {},
   "outputs": [],
   "source": [
    "physical_devices = tf.config.list_physical_devices('GPU')\n",
    "tf.config.experimental.set_memory_growth(physical_devices[0], True)"
   ]
  },
  {
   "cell_type": "code",
   "execution_count": 4,
   "metadata": {},
   "outputs": [],
   "source": [
    "BATCH_SIZE = 64\n",
    "IMG_SIZE = 288, 432\n",
    "PATH_SPECTRA = '<path to spectra files>'\n",
    "PATH_TARGETS = '<path to targets>'\n",
    "PATH_SAVE = '<model save path>'\n",
    "SPLIT = 20_000\n",
    "LEARNING_RATE = 1e-04\n",
    "EPOCHS = 100\n",
    "LAMBDA = 1e-02"
   ]
  },
  {
   "cell_type": "code",
   "execution_count": 4,
   "metadata": {},
   "outputs": [],
   "source": [
    "img = keras.preprocessing.image.load_img(\n",
    "    path='./spectra/0.jpg', \n",
    "    color_mode='grayscale',  # or 'rgb' \n",
    "    target_size=IMG_SIZE,\n",
    "    interpolation=\"lanczos\"\n",
    ")\n",
    "img"
   ]
  },
  {
   "cell_type": "code",
   "execution_count": 6,
   "metadata": {},
   "outputs": [],
   "source": [
    "class CustomDataset(tf.keras.utils.Sequence):\n",
    "\n",
    "    def __init__(self, batch_size, img_size, input_img_paths, targets):\n",
    "        self.batch_size = batch_size\n",
    "        self.img_size = img_size\n",
    "        self.input_img_paths = input_img_paths\n",
    "        self.targets = targets\n",
    "        \n",
    "\n",
    "    def __len__(self):\n",
    "        return len(self.targets) // self.batch_size\n",
    "\n",
    "\n",
    "    def __getitem__(self, idx):\n",
    "        i = idx * self.batch_size\n",
    "        batch_input_img_paths = self.input_img_paths[i : i + self.batch_size]\n",
    "        batch_targets = self.targets[i : i + self.batch_size]\n",
    "        x = np.zeros((self.batch_size,) + self.img_size, dtype=\"float32\")\n",
    "        for j, path in enumerate(batch_input_img_paths):\n",
    "            img = load_img(path, target_size=self.img_size, color_mode='grayscale')\n",
    "            x[j] = img\n",
    "            x[j] /= 255\n",
    "        return x, batch_targets"
   ]
  },
  {
   "cell_type": "code",
   "execution_count": null,
   "metadata": {},
   "outputs": [],
   "source": [
    "# results_list = []\n",
    "# with open('./test.csv') as csvfile:\n",
    "#     reader = csv.reader(csvfile)\n",
    "#     for row in reader:\n",
    "#         results_list.append(row)\n",
    "# results_list\n",
    "# np.array(results_list)"
   ]
  },
  {
   "cell_type": "code",
   "execution_count": 7,
   "metadata": {},
   "outputs": [],
   "source": [
    "with open(PATH_TARGETS) as csvfile:\n",
    "    reader = csv.reader(csvfile)\n",
    "    for row in reader:\n",
    "        target_list = [float(value) for value in row]\n",
    "        targets = np.array(target_list)"
   ]
  },
  {
   "cell_type": "code",
   "execution_count": 8,
   "metadata": {},
   "outputs": [],
   "source": [
    "input_img_paths = sorted(\n",
    "    [\n",
    "        os.path.join(PATH_SPECTRA, fname)\n",
    "        for fname in os.listdir(PATH_SPECTRA)\n",
    "        if fname.endswith((\".jpg\"))\n",
    "    ], \n",
    "    key = lambda x: int(x.split('/')[-1].split('.')[0])\n",
    ")"
   ]
  },
  {
   "cell_type": "code",
   "execution_count": 9,
   "metadata": {},
   "outputs": [],
   "source": [
    "train_input_img_paths = input_img_paths[:SPLIT]\n",
    "train_targets = targets[:SPLIT]\n",
    "val_input_img_paths = input_img_paths[SPLIT:]\n",
    "val_targets = targets[SPLIT:]"
   ]
  },
  {
   "cell_type": "code",
   "execution_count": 10,
   "metadata": {},
   "outputs": [],
   "source": [
    "train = CustomDataset(\n",
    "                    BATCH_SIZE,\n",
    "                    IMG_SIZE,\n",
    "                    train_input_img_paths,\n",
    "                    train_targets,\n",
    "            )\n",
    "            \n",
    "val = CustomDataset(\n",
    "                    BATCH_SIZE,\n",
    "                    IMG_SIZE,\n",
    "                    val_input_img_paths,\n",
    "                    val_targets,\n",
    "            )"
   ]
  },
  {
   "cell_type": "code",
   "execution_count": 11,
   "metadata": {},
   "outputs": [],
   "source": [
    "callback_01 = tf.keras.callbacks.ModelCheckpoint(\n",
    "    PATH_SAVE,\n",
    "    monitor=\"val_loss\",\n",
    "    mode = 'min',\n",
    "    save_best_only=True,\n",
    ")"
   ]
  },
  {
   "cell_type": "code",
   "execution_count": 12,
   "metadata": {},
   "outputs": [],
   "source": [
    "L1_reg = tf.keras.regularizers.L1(l1=LAMBDA)\n",
    "L2_reg = tf.keras.regularizers.L2(l2=LAMBDA)"
   ]
  },
  {
   "cell_type": "code",
   "execution_count": 13,
   "metadata": {},
   "outputs": [],
   "source": [
    "inputs = Input(shape=IMG_SIZE+(1,))\n",
    "\n",
    "conv1 = Conv2D(filters=32, kernel_size=3, activation='relu', padding='same')(inputs)\n",
    "pool1= MaxPooling2D(2, strides=2, padding=\"same\")(conv1)\n",
    "\n",
    "conv2 = Conv2D(filters=64, kernel_size=3, activation='relu', padding='same')(pool1)\n",
    "pool2= MaxPooling2D(2, strides=2, padding=\"same\")(conv2)\n",
    "\n",
    "conv3 = Conv2D(filters=128, kernel_size=3, activation='relu', padding='same')(pool2)\n",
    "pool3= MaxPooling2D(2, strides=2, padding=\"same\")(conv3)\n",
    "\n",
    "flat = Flatten()(pool3)\n",
    "\n",
    "dense1 = Dense(\n",
    "    units=50,\n",
    "    activation='relu',\n",
    "    kernel_regularizer=L1_reg,\n",
    "    activity_regularizer=L2_reg,\n",
    "    )(flat)\n",
    "\n",
    "output = Dense(\n",
    "    units=1,\n",
    "    )(dense1)"
   ]
  },
  {
   "cell_type": "code",
   "execution_count": 14,
   "metadata": {},
   "outputs": [],
   "source": [
    "model = tf.keras.Model(inputs=inputs, outputs=output)"
   ]
  },
  {
   "cell_type": "code",
   "execution_count": 15,
   "metadata": {},
   "outputs": [],
   "source": [
    "model.compile(\n",
    "    optimizer=tf.keras.optimizers.Adam(\n",
    "        learning_rate=LEARNING_RATE,\n",
    "    ),\n",
    "    loss='mean_squared_error',\n",
    "    metrics = [tfa.metrics.RSquare()],\n",
    ")"
   ]
  },
  {
   "cell_type": "code",
   "execution_count": 1,
   "metadata": {},
   "outputs": [],
   "source": [
    "# model.summary()"
   ]
  },
  {
   "cell_type": "code",
   "execution_count": 2,
   "metadata": {},
   "outputs": [],
   "source": [
    "history = model.fit(\n",
    "    train,\n",
    "    validation_data=val,\n",
    "    epochs=200,\n",
    "    callbacks=[callback_01,],\n",
    "    verbose=1\n",
    ")"
   ]
  },
  {
   "cell_type": "code",
   "execution_count": 19,
   "metadata": {},
   "outputs": [],
   "source": [
    "conv_layers = ['conv2d', 'conv2d_1', 'conv2d_2']"
   ]
  },
  {
   "cell_type": "markdown",
   "metadata": {},
   "source": [
    "## Saliency map"
   ]
  },
  {
   "cell_type": "code",
   "execution_count": 20,
   "metadata": {},
   "outputs": [],
   "source": [
    "import matplotlib.pyplot as plt"
   ]
  },
  {
   "cell_type": "code",
   "execution_count": 21,
   "metadata": {},
   "outputs": [],
   "source": [
    "def make_gradcam_heatmap(img_array, model, last_conv_layer_name):\n",
    "    grad_model = tf.keras.models.Model(\n",
    "        [model.inputs], [model.get_layer(last_conv_layer_name).output, model.output]\n",
    "    )\n",
    "    with tf.GradientTape() as tape:\n",
    "        last_conv_layer_output, preds = grad_model(img_array)\n",
    "    grads = tape.gradient(preds, last_conv_layer_output)\n",
    "    pooled_grads = tf.reduce_mean(grads, axis=(0, 1, 2))\n",
    "    last_conv_layer_output = last_conv_layer_output[0]\n",
    "    heatmap = last_conv_layer_output @ pooled_grads[..., tf.newaxis]\n",
    "    heatmap = tf.squeeze(heatmap)\n",
    "    heatmap = tf.maximum(heatmap, 0) / tf.math.reduce_max(heatmap)\n",
    "    return heatmap.numpy()"
   ]
  },
  {
   "cell_type": "code",
   "execution_count": 47,
   "metadata": {},
   "outputs": [],
   "source": [
    "test_image_path = './spectra/1000.jpg'"
   ]
  },
  {
   "cell_type": "code",
   "execution_count": 48,
   "metadata": {},
   "outputs": [],
   "source": [
    "real_image = load_img(test_image_path, target_size = IMG_SIZE, color_mode='grayscale')"
   ]
  },
  {
   "cell_type": "code",
   "execution_count": 49,
   "metadata": {},
   "outputs": [],
   "source": [
    "array = img_to_array(real_image)\n",
    "array = np.expand_dims(array, axis=0)/255."
   ]
  },
  {
   "cell_type": "code",
   "execution_count": 50,
   "metadata": {},
   "outputs": [],
   "source": [
    "activations=[]\n",
    "for conv_layer in conv_layers:\n",
    "    heatmap = make_gradcam_heatmap(array, model, conv_layer)\n",
    "    activations.append(heatmap)"
   ]
  },
  {
   "cell_type": "code",
   "execution_count": 99,
   "metadata": {},
   "outputs": [],
   "source": [
    "# real_image = load_img(test_image_path, target_size = IMG_SIZE, color_mode='grayscale')"
   ]
  },
  {
   "cell_type": "code",
   "execution_count": 51,
   "metadata": {},
   "outputs": [
    {
     "data": {
      "image/png": "[encoded data removed]",
      "text/plain": [
       "<Figure size 576x576 with 4 Axes>"
      ]
     },
     "metadata": {
      "needs_background": "light"
     },
     "output_type": "display_data"
    }
   ],
   "source": [
    "fig, axes = plt.subplots(2, 2, figsize=(8, 8), sharex=False,\\\n",
    "    sharey=False, squeeze=False)\n",
    "\n",
    "axes[0, 0].set_title(\"layer_1\")\n",
    "axes[0, 0].imshow(activations[0])\n",
    "\n",
    "axes[0, 1].set_title(\"layer_2\")\n",
    "axes[0, 1].imshow(activations[1])\n",
    "\n",
    "axes[1, 0].set_title(\"layer_3\")\n",
    "axes[1, 0].imshow(activations[2])\n",
    "\n",
    "axes[1, 1].set_title(\"Real image\")\n",
    "axes[1, 1].imshow(real_image)\n",
    "\n",
    "axes[1, 1].set_xlabel(\"x\")\n",
    "axes[1, 0].set_xlabel(\"x\")\n",
    "axes[0, 0].set_ylabel(\"y\")\n",
    "axes[1, 0].set_ylabel(\"y\")\n",
    "\n",
    "plt.subplots_adjust(left=0.1, right=0.95, bottom=0.1, top=0.95,\\\n",
    "    wspace=0.1, hspace=0.2)"
   ]
  },
  {
   "cell_type": "code",
   "execution_count": 56,
   "metadata": {},
   "outputs": [],
   "source": [
    "from PIL import Image"
   ]
  },
  {
   "cell_type": "code",
   "execution_count": 52,
   "metadata": {},
   "outputs": [],
   "source": [
    "import matplotlib.cm as cm"
   ]
  },
  {
   "cell_type": "code",
   "execution_count": 57,
   "metadata": {},
   "outputs": [],
   "source": [
    "def save_and_display_gradcam(img_path, heatmap, cam_path=\"cam.jpg\", alpha=0.6):\n",
    "    # Load the original image\n",
    "    img = keras.preprocessing.image.load_img(img_path, target_size=IMG_SIZE, interpolation='lanczos')\n",
    "    img = keras.preprocessing.image.img_to_array(img)\n",
    "\n",
    "    # Rescale heatmap to a range 0-255\n",
    "    heatmap = np.uint8(255 * heatmap)\n",
    "\n",
    "    # Use jet colormap to colorize heatmap\n",
    "    jet = cm.get_cmap(\"jet\")\n",
    "\n",
    "    # Use RGB values of the colormap\n",
    "    jet_colors = jet(np.arange(256))[:, :3]\n",
    "    jet_heatmap = jet_colors[heatmap]\n",
    "\n",
    "    # Create an image with RGB colorized heatmap\n",
    "    jet_heatmap = keras.preprocessing.image.array_to_img(jet_heatmap)\n",
    "    jet_heatmap = jet_heatmap.resize((img.shape[1], img.shape[0]))\n",
    "    jet_heatmap = keras.preprocessing.image.img_to_array(jet_heatmap)\n",
    "\n",
    "    # Superimpose the heatmap on original image\n",
    "    superimposed_img = jet_heatmap * alpha + img\n",
    "    superimposed_img = keras.preprocessing.image.array_to_img(superimposed_img)\n",
    "\n",
    "    # Save the superimposed image\n",
    "    superimposed_img.save(cam_path)\n",
    "\n",
    "    # Display Grad CAM\n",
    "    # display(Image(cam_path))\n",
    "\n"
   ]
  },
  {
   "cell_type": "code",
   "execution_count": 58,
   "metadata": {},
   "outputs": [],
   "source": [
    "heatmap = make_gradcam_heatmap(array, model, 'conv2d_2')"
   ]
  },
  {
   "cell_type": "code",
   "execution_count": 3,
   "metadata": {},
   "outputs": [],
   "source": [
    "save_and_display_gradcam(img_path=test_image_path, heatmap=heatmap)"
   ]
  },
  {
   "cell_type": "code",
   "execution_count": null,
   "metadata": {},
   "outputs": [],
   "source": []
  }
 ],
 "metadata": {
  "kernelspec": {
   "display_name": "venv",
   "language": "python",
   "name": "python3"
  },
  "language_info": {
   "codemirror_mode": {
    "name": "ipython",
    "version": 3
   },
   "file_extension": ".py",
   "mimetype": "text/x-python",
   "name": "python",
   "nbconvert_exporter": "python",
   "pygments_lexer": "ipython3",
   "version": "3.8.10"
  },
  "orig_nbformat": 4,
  "vscode": {
   "interpreter": {
    "hash": "cf35905dd43f0da56ae99027303b7872985f38af067141fd4bc8686cc13c6723"
   }
  }
 },
 "nbformat": 4,
 "nbformat_minor": 2
}
